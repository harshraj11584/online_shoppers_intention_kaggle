{
 "cells": [
  {
   "cell_type": "code",
   "execution_count": 287,
   "metadata": {},
   "outputs": [],
   "source": [
    "import numpy as np\n",
    "import pandas as pd\n",
    "from sklearn.metrics import roc_auc_score"
   ]
  },
  {
   "cell_type": "code",
   "execution_count": 288,
   "metadata": {},
   "outputs": [],
   "source": [
    "data_train = pd.DataFrame()\n",
    "data_val = pd.DataFrame()\n",
    "data_test = pd.DataFrame()"
   ]
  },
  {
   "cell_type": "code",
   "execution_count": 332,
   "metadata": {},
   "outputs": [
    {
     "data": {
      "text/html": [
       "<div>\n",
       "<style scoped>\n",
       "    .dataframe tbody tr th:only-of-type {\n",
       "        vertical-align: middle;\n",
       "    }\n",
       "\n",
       "    .dataframe tbody tr th {\n",
       "        vertical-align: top;\n",
       "    }\n",
       "\n",
       "    .dataframe thead th {\n",
       "        text-align: right;\n",
       "    }\n",
       "</style>\n",
       "<table border=\"1\" class=\"dataframe\">\n",
       "  <thead>\n",
       "    <tr style=\"text-align: right;\">\n",
       "      <th></th>\n",
       "      <th>M1</th>\n",
       "      <th>M2</th>\n",
       "      <th>M3</th>\n",
       "      <th>M15</th>\n",
       "      <th>M16_0</th>\n",
       "      <th>M16_1</th>\n",
       "      <th>M16_2</th>\n",
       "      <th>F1(0)</th>\n",
       "      <th>F1(1)</th>\n",
       "      <th>F2(0)</th>\n",
       "      <th>F2(1)</th>\n",
       "      <th>F3(0)</th>\n",
       "      <th>F3(1)</th>\n",
       "      <th>F4(0)</th>\n",
       "      <th>F4(1)</th>\n",
       "      <th>F7</th>\n",
       "    </tr>\n",
       "  </thead>\n",
       "  <tbody>\n",
       "    <tr>\n",
       "      <th>0</th>\n",
       "      <td>0.003333</td>\n",
       "      <td>0.216762</td>\n",
       "      <td>0.0</td>\n",
       "      <td>0.064881</td>\n",
       "      <td>0.462098</td>\n",
       "      <td>0.372914</td>\n",
       "      <td>0.039674</td>\n",
       "      <td>4.280115</td>\n",
       "      <td>3.875519</td>\n",
       "      <td>33.312462</td>\n",
       "      <td>30.304176</td>\n",
       "      <td>129.877779</td>\n",
       "      <td>117.609750</td>\n",
       "      <td>254.249745</td>\n",
       "      <td>229.568007</td>\n",
       "      <td>16.0</td>\n",
       "    </tr>\n",
       "    <tr>\n",
       "      <th>1</th>\n",
       "      <td>0.008333</td>\n",
       "      <td>0.366722</td>\n",
       "      <td>0.0</td>\n",
       "      <td>0.331041</td>\n",
       "      <td>0.115525</td>\n",
       "      <td>0.490415</td>\n",
       "      <td>0.074309</td>\n",
       "      <td>4.158685</td>\n",
       "      <td>3.965166</td>\n",
       "      <td>33.122729</td>\n",
       "      <td>31.178792</td>\n",
       "      <td>130.978049</td>\n",
       "      <td>120.824808</td>\n",
       "      <td>258.480596</td>\n",
       "      <td>238.197288</td>\n",
       "      <td>13.0</td>\n",
       "    </tr>\n",
       "    <tr>\n",
       "      <th>2</th>\n",
       "      <td>0.013333</td>\n",
       "      <td>0.254434</td>\n",
       "      <td>0.0</td>\n",
       "      <td>0.094122</td>\n",
       "      <td>0.577623</td>\n",
       "      <td>0.426187</td>\n",
       "      <td>0.005319</td>\n",
       "      <td>3.918217</td>\n",
       "      <td>3.846917</td>\n",
       "      <td>30.225963</td>\n",
       "      <td>29.256037</td>\n",
       "      <td>116.251630</td>\n",
       "      <td>112.686115</td>\n",
       "      <td>227.974042</td>\n",
       "      <td>217.915372</td>\n",
       "      <td>11.0</td>\n",
       "    </tr>\n",
       "    <tr>\n",
       "      <th>3</th>\n",
       "      <td>0.990000</td>\n",
       "      <td>0.995158</td>\n",
       "      <td>1.0</td>\n",
       "      <td>0.977229</td>\n",
       "      <td>0.577623</td>\n",
       "      <td>0.332284</td>\n",
       "      <td>0.027609</td>\n",
       "      <td>4.124381</td>\n",
       "      <td>3.728030</td>\n",
       "      <td>31.438656</td>\n",
       "      <td>28.825212</td>\n",
       "      <td>121.076557</td>\n",
       "      <td>110.287027</td>\n",
       "      <td>237.255522</td>\n",
       "      <td>213.761863</td>\n",
       "      <td>14.0</td>\n",
       "    </tr>\n",
       "    <tr>\n",
       "      <th>4</th>\n",
       "      <td>0.000000</td>\n",
       "      <td>0.051227</td>\n",
       "      <td>0.0</td>\n",
       "      <td>0.027864</td>\n",
       "      <td>0.462098</td>\n",
       "      <td>0.190072</td>\n",
       "      <td>0.039339</td>\n",
       "      <td>3.875246</td>\n",
       "      <td>3.824761</td>\n",
       "      <td>29.711911</td>\n",
       "      <td>29.652378</td>\n",
       "      <td>116.009335</td>\n",
       "      <td>114.651652</td>\n",
       "      <td>228.629688</td>\n",
       "      <td>224.974367</td>\n",
       "      <td>11.0</td>\n",
       "    </tr>\n",
       "  </tbody>\n",
       "</table>\n",
       "</div>"
      ],
      "text/plain": [
       "         M1        M2   M3       M15     M16_0     M16_1     M16_2     F1(0)  \\\n",
       "0  0.003333  0.216762  0.0  0.064881  0.462098  0.372914  0.039674  4.280115   \n",
       "1  0.008333  0.366722  0.0  0.331041  0.115525  0.490415  0.074309  4.158685   \n",
       "2  0.013333  0.254434  0.0  0.094122  0.577623  0.426187  0.005319  3.918217   \n",
       "3  0.990000  0.995158  1.0  0.977229  0.577623  0.332284  0.027609  4.124381   \n",
       "4  0.000000  0.051227  0.0  0.027864  0.462098  0.190072  0.039339  3.875246   \n",
       "\n",
       "      F1(1)      F2(0)      F2(1)       F3(0)       F3(1)       F4(0)  \\\n",
       "0  3.875519  33.312462  30.304176  129.877779  117.609750  254.249745   \n",
       "1  3.965166  33.122729  31.178792  130.978049  120.824808  258.480596   \n",
       "2  3.846917  30.225963  29.256037  116.251630  112.686115  227.974042   \n",
       "3  3.728030  31.438656  28.825212  121.076557  110.287027  237.255522   \n",
       "4  3.824761  29.711911  29.652378  116.009335  114.651652  228.629688   \n",
       "\n",
       "        F4(1)    F7  \n",
       "0  229.568007  16.0  \n",
       "1  238.197288  13.0  \n",
       "2  217.915372  11.0  \n",
       "3  213.761863  14.0  \n",
       "4  224.974367  11.0  "
      ]
     },
     "execution_count": 332,
     "metadata": {},
     "output_type": "execute_result"
    }
   ],
   "source": [
    "data_train.head()"
   ]
  },
  {
   "cell_type": "code",
   "execution_count": 333,
   "metadata": {},
   "outputs": [
    {
     "data": {
      "text/html": [
       "<div>\n",
       "<style scoped>\n",
       "    .dataframe tbody tr th:only-of-type {\n",
       "        vertical-align: middle;\n",
       "    }\n",
       "\n",
       "    .dataframe tbody tr th {\n",
       "        vertical-align: top;\n",
       "    }\n",
       "\n",
       "    .dataframe thead th {\n",
       "        text-align: right;\n",
       "    }\n",
       "</style>\n",
       "<table border=\"1\" class=\"dataframe\">\n",
       "  <thead>\n",
       "    <tr style=\"text-align: right;\">\n",
       "      <th></th>\n",
       "      <th>M1</th>\n",
       "      <th>M2</th>\n",
       "      <th>M3</th>\n",
       "      <th>M15</th>\n",
       "      <th>M16_0</th>\n",
       "      <th>M16_1</th>\n",
       "      <th>M16_2</th>\n",
       "      <th>F1(0)</th>\n",
       "      <th>F1(1)</th>\n",
       "      <th>F2(0)</th>\n",
       "      <th>F2(1)</th>\n",
       "      <th>F3(0)</th>\n",
       "      <th>F3(1)</th>\n",
       "      <th>F4(0)</th>\n",
       "      <th>F4(1)</th>\n",
       "      <th>F7</th>\n",
       "    </tr>\n",
       "  </thead>\n",
       "  <tbody>\n",
       "    <tr>\n",
       "      <th>0</th>\n",
       "      <td>0.008333</td>\n",
       "      <td>0.249174</td>\n",
       "      <td>0.0150</td>\n",
       "      <td>0.097933</td>\n",
       "      <td>0.693147</td>\n",
       "      <td>0.313191</td>\n",
       "      <td>0.032876</td>\n",
       "      <td>3.923753</td>\n",
       "      <td>4.058521</td>\n",
       "      <td>30.356671</td>\n",
       "      <td>30.468303</td>\n",
       "      <td>118.303202</td>\n",
       "      <td>117.530575</td>\n",
       "      <td>231.583961</td>\n",
       "      <td>228.131587</td>\n",
       "      <td>14.0</td>\n",
       "    </tr>\n",
       "    <tr>\n",
       "      <th>1</th>\n",
       "      <td>0.145000</td>\n",
       "      <td>0.339234</td>\n",
       "      <td>0.2625</td>\n",
       "      <td>0.440060</td>\n",
       "      <td>0.462098</td>\n",
       "      <td>0.645475</td>\n",
       "      <td>0.023946</td>\n",
       "      <td>4.273951</td>\n",
       "      <td>3.826510</td>\n",
       "      <td>32.686589</td>\n",
       "      <td>30.038282</td>\n",
       "      <td>126.723415</td>\n",
       "      <td>115.909931</td>\n",
       "      <td>247.789339</td>\n",
       "      <td>225.951660</td>\n",
       "      <td>14.0</td>\n",
       "    </tr>\n",
       "    <tr>\n",
       "      <th>2</th>\n",
       "      <td>0.000000</td>\n",
       "      <td>0.029469</td>\n",
       "      <td>0.0000</td>\n",
       "      <td>0.017857</td>\n",
       "      <td>0.693147</td>\n",
       "      <td>0.207320</td>\n",
       "      <td>0.054648</td>\n",
       "      <td>3.983597</td>\n",
       "      <td>3.972570</td>\n",
       "      <td>31.215360</td>\n",
       "      <td>31.287087</td>\n",
       "      <td>121.682361</td>\n",
       "      <td>121.746553</td>\n",
       "      <td>239.614234</td>\n",
       "      <td>237.988288</td>\n",
       "      <td>16.0</td>\n",
       "    </tr>\n",
       "    <tr>\n",
       "      <th>3</th>\n",
       "      <td>0.001667</td>\n",
       "      <td>0.043086</td>\n",
       "      <td>0.0025</td>\n",
       "      <td>0.016224</td>\n",
       "      <td>0.577623</td>\n",
       "      <td>0.026340</td>\n",
       "      <td>0.043624</td>\n",
       "      <td>3.835872</td>\n",
       "      <td>3.884567</td>\n",
       "      <td>30.135725</td>\n",
       "      <td>30.237361</td>\n",
       "      <td>117.527929</td>\n",
       "      <td>117.024696</td>\n",
       "      <td>230.670618</td>\n",
       "      <td>229.605362</td>\n",
       "      <td>13.0</td>\n",
       "    </tr>\n",
       "    <tr>\n",
       "      <th>4</th>\n",
       "      <td>0.245000</td>\n",
       "      <td>0.918097</td>\n",
       "      <td>0.3725</td>\n",
       "      <td>0.501144</td>\n",
       "      <td>0.693147</td>\n",
       "      <td>0.346574</td>\n",
       "      <td>0.051440</td>\n",
       "      <td>4.085931</td>\n",
       "      <td>3.959548</td>\n",
       "      <td>31.861668</td>\n",
       "      <td>30.212223</td>\n",
       "      <td>123.232340</td>\n",
       "      <td>114.956195</td>\n",
       "      <td>241.100065</td>\n",
       "      <td>222.261384</td>\n",
       "      <td>20.0</td>\n",
       "    </tr>\n",
       "  </tbody>\n",
       "</table>\n",
       "</div>"
      ],
      "text/plain": [
       "         M1        M2      M3       M15     M16_0     M16_1     M16_2  \\\n",
       "0  0.008333  0.249174  0.0150  0.097933  0.693147  0.313191  0.032876   \n",
       "1  0.145000  0.339234  0.2625  0.440060  0.462098  0.645475  0.023946   \n",
       "2  0.000000  0.029469  0.0000  0.017857  0.693147  0.207320  0.054648   \n",
       "3  0.001667  0.043086  0.0025  0.016224  0.577623  0.026340  0.043624   \n",
       "4  0.245000  0.918097  0.3725  0.501144  0.693147  0.346574  0.051440   \n",
       "\n",
       "      F1(0)     F1(1)      F2(0)      F2(1)       F3(0)       F3(1)  \\\n",
       "0  3.923753  4.058521  30.356671  30.468303  118.303202  117.530575   \n",
       "1  4.273951  3.826510  32.686589  30.038282  126.723415  115.909931   \n",
       "2  3.983597  3.972570  31.215360  31.287087  121.682361  121.746553   \n",
       "3  3.835872  3.884567  30.135725  30.237361  117.527929  117.024696   \n",
       "4  4.085931  3.959548  31.861668  30.212223  123.232340  114.956195   \n",
       "\n",
       "        F4(0)       F4(1)    F7  \n",
       "0  231.583961  228.131587  14.0  \n",
       "1  247.789339  225.951660  14.0  \n",
       "2  239.614234  237.988288  16.0  \n",
       "3  230.670618  229.605362  13.0  \n",
       "4  241.100065  222.261384  20.0  "
      ]
     },
     "execution_count": 333,
     "metadata": {},
     "output_type": "execute_result"
    }
   ],
   "source": [
    "data_val.head()"
   ]
  },
  {
   "cell_type": "code",
   "execution_count": 334,
   "metadata": {},
   "outputs": [
    {
     "data": {
      "text/html": [
       "<div>\n",
       "<style scoped>\n",
       "    .dataframe tbody tr th:only-of-type {\n",
       "        vertical-align: middle;\n",
       "    }\n",
       "\n",
       "    .dataframe tbody tr th {\n",
       "        vertical-align: top;\n",
       "    }\n",
       "\n",
       "    .dataframe thead th {\n",
       "        text-align: right;\n",
       "    }\n",
       "</style>\n",
       "<table border=\"1\" class=\"dataframe\">\n",
       "  <thead>\n",
       "    <tr style=\"text-align: right;\">\n",
       "      <th></th>\n",
       "      <th>M1</th>\n",
       "      <th>M2</th>\n",
       "      <th>M3</th>\n",
       "      <th>M15</th>\n",
       "      <th>M16_0</th>\n",
       "      <th>M16_1</th>\n",
       "      <th>M16_2</th>\n",
       "      <th>F1(0)</th>\n",
       "      <th>F1(1)</th>\n",
       "      <th>F2(0)</th>\n",
       "      <th>F2(1)</th>\n",
       "      <th>F3(0)</th>\n",
       "      <th>F3(1)</th>\n",
       "      <th>F4(0)</th>\n",
       "      <th>F4(1)</th>\n",
       "      <th>F7</th>\n",
       "    </tr>\n",
       "  </thead>\n",
       "  <tbody>\n",
       "    <tr>\n",
       "      <th>0</th>\n",
       "      <td>0.013333</td>\n",
       "      <td>0.051811</td>\n",
       "      <td>0.0050</td>\n",
       "      <td>0.029414</td>\n",
       "      <td>0.693147</td>\n",
       "      <td>0.105954</td>\n",
       "      <td>0.058108</td>\n",
       "      <td>3.948886</td>\n",
       "      <td>3.941858</td>\n",
       "      <td>31.178006</td>\n",
       "      <td>31.092404</td>\n",
       "      <td>121.028631</td>\n",
       "      <td>120.927375</td>\n",
       "      <td>238.023293</td>\n",
       "      <td>236.800943</td>\n",
       "      <td>16.0</td>\n",
       "    </tr>\n",
       "    <tr>\n",
       "      <th>1</th>\n",
       "      <td>0.020000</td>\n",
       "      <td>0.417538</td>\n",
       "      <td>0.0000</td>\n",
       "      <td>0.123231</td>\n",
       "      <td>0.462098</td>\n",
       "      <td>0.313191</td>\n",
       "      <td>0.039566</td>\n",
       "      <td>4.143586</td>\n",
       "      <td>3.910061</td>\n",
       "      <td>32.158102</td>\n",
       "      <td>31.048478</td>\n",
       "      <td>124.391205</td>\n",
       "      <td>120.097083</td>\n",
       "      <td>245.336480</td>\n",
       "      <td>235.299405</td>\n",
       "      <td>11.0</td>\n",
       "    </tr>\n",
       "    <tr>\n",
       "      <th>2</th>\n",
       "      <td>0.000000</td>\n",
       "      <td>0.039595</td>\n",
       "      <td>0.0000</td>\n",
       "      <td>0.014604</td>\n",
       "      <td>0.693147</td>\n",
       "      <td>0.055786</td>\n",
       "      <td>0.027127</td>\n",
       "      <td>3.781319</td>\n",
       "      <td>3.888326</td>\n",
       "      <td>29.893061</td>\n",
       "      <td>29.936050</td>\n",
       "      <td>116.229971</td>\n",
       "      <td>115.542080</td>\n",
       "      <td>227.651718</td>\n",
       "      <td>225.041950</td>\n",
       "      <td>14.0</td>\n",
       "    </tr>\n",
       "    <tr>\n",
       "      <th>3</th>\n",
       "      <td>0.198333</td>\n",
       "      <td>0.409323</td>\n",
       "      <td>0.1625</td>\n",
       "      <td>0.567970</td>\n",
       "      <td>0.462098</td>\n",
       "      <td>0.332284</td>\n",
       "      <td>0.065246</td>\n",
       "      <td>4.007637</td>\n",
       "      <td>3.903148</td>\n",
       "      <td>31.717493</td>\n",
       "      <td>31.030027</td>\n",
       "      <td>124.485337</td>\n",
       "      <td>121.299036</td>\n",
       "      <td>246.346738</td>\n",
       "      <td>237.443783</td>\n",
       "      <td>16.0</td>\n",
       "    </tr>\n",
       "    <tr>\n",
       "      <th>4</th>\n",
       "      <td>0.010000</td>\n",
       "      <td>0.060296</td>\n",
       "      <td>0.0075</td>\n",
       "      <td>0.019831</td>\n",
       "      <td>0.346574</td>\n",
       "      <td>0.190072</td>\n",
       "      <td>0.109047</td>\n",
       "      <td>4.102297</td>\n",
       "      <td>4.186046</td>\n",
       "      <td>32.392693</td>\n",
       "      <td>32.882923</td>\n",
       "      <td>127.586195</td>\n",
       "      <td>129.229023</td>\n",
       "      <td>252.863840</td>\n",
       "      <td>255.496935</td>\n",
       "      <td>16.0</td>\n",
       "    </tr>\n",
       "  </tbody>\n",
       "</table>\n",
       "</div>"
      ],
      "text/plain": [
       "         M1        M2      M3       M15     M16_0     M16_1     M16_2  \\\n",
       "0  0.013333  0.051811  0.0050  0.029414  0.693147  0.105954  0.058108   \n",
       "1  0.020000  0.417538  0.0000  0.123231  0.462098  0.313191  0.039566   \n",
       "2  0.000000  0.039595  0.0000  0.014604  0.693147  0.055786  0.027127   \n",
       "3  0.198333  0.409323  0.1625  0.567970  0.462098  0.332284  0.065246   \n",
       "4  0.010000  0.060296  0.0075  0.019831  0.346574  0.190072  0.109047   \n",
       "\n",
       "      F1(0)     F1(1)      F2(0)      F2(1)       F3(0)       F3(1)  \\\n",
       "0  3.948886  3.941858  31.178006  31.092404  121.028631  120.927375   \n",
       "1  4.143586  3.910061  32.158102  31.048478  124.391205  120.097083   \n",
       "2  3.781319  3.888326  29.893061  29.936050  116.229971  115.542080   \n",
       "3  4.007637  3.903148  31.717493  31.030027  124.485337  121.299036   \n",
       "4  4.102297  4.186046  32.392693  32.882923  127.586195  129.229023   \n",
       "\n",
       "        F4(0)       F4(1)    F7  \n",
       "0  238.023293  236.800943  16.0  \n",
       "1  245.336480  235.299405  11.0  \n",
       "2  227.651718  225.041950  14.0  \n",
       "3  246.346738  237.443783  16.0  \n",
       "4  252.863840  255.496935  16.0  "
      ]
     },
     "execution_count": 334,
     "metadata": {},
     "output_type": "execute_result"
    }
   ],
   "source": [
    "data_test.head()"
   ]
  },
  {
   "cell_type": "code",
   "execution_count": 292,
   "metadata": {},
   "outputs": [],
   "source": [
    "m1_train = np.load('m1_train.npy')\n",
    "m1_val = np.load('m1_val.npy')\n",
    "m1_test = np.load('m1_pred.npy')\n",
    "\n",
    "m1_train.shape, m1_val.shape, m1_test.shape\n",
    "\n",
    "pd.DataFrame(m1_test).to_csv('RandomForest.csv')"
   ]
  },
  {
   "cell_type": "code",
   "execution_count": 293,
   "metadata": {},
   "outputs": [],
   "source": [
    "data_train['M1'] = m1_train\n",
    "data_val['M1'] = m1_val\n",
    "data_test['M1'] = m1_test"
   ]
  },
  {
   "cell_type": "code",
   "execution_count": 297,
   "metadata": {},
   "outputs": [],
   "source": [
    "m2_train = np.load('m2_train.npy')\n",
    "m2_val = np.load('m2_val.npy')\n",
    "m2_test = np.load('m2_pred.npy')\n",
    "\n",
    "m2_train.shape, m2_val.shape, m2_test.shape\n",
    "\n",
    "pd.DataFrame(m2_test).to_csv('LogReg.csv')"
   ]
  },
  {
   "cell_type": "code",
   "execution_count": 298,
   "metadata": {},
   "outputs": [],
   "source": [
    "data_train['M2'] = m2_train\n",
    "data_val['M2'] = m2_val\n",
    "data_test['M2'] = m2_test"
   ]
  },
  {
   "cell_type": "code",
   "execution_count": 302,
   "metadata": {},
   "outputs": [],
   "source": [
    "m3_train = np.load('m3_train.npy')\n",
    "m3_val = np.load('m3_val.npy')\n",
    "m3_test = np.load('m3_pred.npy')\n",
    "\n",
    "m3_train.shape, m3_val.shape, m3_test.shape\n",
    "\n",
    "pd.DataFrame(m3_test).to_csv('ExtraTrees.csv')"
   ]
  },
  {
   "cell_type": "code",
   "execution_count": 303,
   "metadata": {},
   "outputs": [],
   "source": [
    "data_train['M3'] = m3_train\n",
    "data_val['M3'] = m3_val\n",
    "data_test['M3'] = m3_test"
   ]
  },
  {
   "cell_type": "code",
   "execution_count": 253,
   "metadata": {},
   "outputs": [],
   "source": [
    "m4_train = np.load('m4_train.npy')\n",
    "m4_val = np.load('m4_val.npy')\n",
    "m4_test = np.load('m4_pred.npy')\n",
    "\n",
    "m4_train.shape, m4_val.shape, m4_test.shape\n",
    "\n",
    "pd.DataFrame(m4_test).to_csv('knn.csv')"
   ]
  },
  {
   "cell_type": "code",
   "execution_count": 53,
   "metadata": {},
   "outputs": [],
   "source": [
    "data_train['M4'] = m4_train\n",
    "data_val['M4'] = m4_val\n",
    "data_test['M4'] = m4_test"
   ]
  },
  {
   "cell_type": "code",
   "execution_count": 57,
   "metadata": {},
   "outputs": [
    {
     "data": {
      "text/plain": [
       "((7200,), (1800,), (3330,))"
      ]
     },
     "execution_count": 57,
     "metadata": {},
     "output_type": "execute_result"
    }
   ],
   "source": [
    "m7_train = np.load('m7_train.npy')\n",
    "m7_val = np.load('m7_val.npy')\n",
    "m7_test = np.load('m7_pred.npy')\n",
    "\n",
    "m7_train.shape, m7_val.shape, m7_test.shape"
   ]
  },
  {
   "cell_type": "code",
   "execution_count": 58,
   "metadata": {},
   "outputs": [],
   "source": [
    "data_train['M7'] = m7_train\n",
    "data_val['M7'] = m7_val\n",
    "data_test['M7'] = m7_test"
   ]
  },
  {
   "cell_type": "code",
   "execution_count": 307,
   "metadata": {},
   "outputs": [
    {
     "data": {
      "text/plain": [
       "((7200,), (1800,), (3330,))"
      ]
     },
     "execution_count": 307,
     "metadata": {},
     "output_type": "execute_result"
    }
   ],
   "source": [
    "m15_train = np.load('m15_train.npy')\n",
    "m15_val = np.load('m15_val.npy')\n",
    "m15_test = np.load('m15_pred.npy')\n",
    "\n",
    "m15_train.shape, m15_val.shape, m15_test.shape"
   ]
  },
  {
   "cell_type": "code",
   "execution_count": 308,
   "metadata": {},
   "outputs": [],
   "source": [
    "data_train['M15'] = m15_train\n",
    "data_val['M15'] = m15_val\n",
    "data_test['M15'] = m15_test"
   ]
  },
  {
   "cell_type": "code",
   "execution_count": 312,
   "metadata": {},
   "outputs": [
    {
     "data": {
      "text/plain": [
       "((7200, 3), (1800, 3), (3330, 3))"
      ]
     },
     "execution_count": 312,
     "metadata": {},
     "output_type": "execute_result"
    }
   ],
   "source": [
    "m16_train = np.load('m16_train.npy')\n",
    "m16_val = np.load('m16_val.npy')\n",
    "m16_test = np.load('m16_pred.npy')\n",
    "\n",
    "m16_train.shape, m16_val.shape, m16_test.shape"
   ]
  },
  {
   "cell_type": "code",
   "execution_count": 313,
   "metadata": {},
   "outputs": [],
   "source": [
    "for i in range(3):\n",
    "    data_train['M16_'+str(i)] = m16_train[:,i]\n",
    "    data_val['M16_'+str(i)] = m16_val[:,i]\n",
    "    data_test['M16_'+str(i)] = m16_test[:,i]"
   ]
  },
  {
   "cell_type": "code",
   "execution_count": 314,
   "metadata": {},
   "outputs": [
    {
     "data": {
      "text/plain": [
       "((7200,), (1800,), (3330,))"
      ]
     },
     "execution_count": 314,
     "metadata": {},
     "output_type": "execute_result"
    }
   ],
   "source": [
    "f1_0_train = np.load('F1_0_train.npy')\n",
    "f1_0_val = np.load('F1_0_val.npy')\n",
    "f1_0_test = np.load('F1_0_test.npy')\n",
    "\n",
    "f1_0_train.shape, f1_0_val.shape, f1_0_test.shape"
   ]
  },
  {
   "cell_type": "code",
   "execution_count": 315,
   "metadata": {},
   "outputs": [],
   "source": [
    "data_train['F1(0)'] = f1_0_train\n",
    "data_val['F1(0)'] = f1_0_val\n",
    "data_test['F1(0)'] = f1_0_test"
   ]
  },
  {
   "cell_type": "code",
   "execution_count": 316,
   "metadata": {},
   "outputs": [
    {
     "data": {
      "text/plain": [
       "((7200,), (1800,), (3330,))"
      ]
     },
     "execution_count": 316,
     "metadata": {},
     "output_type": "execute_result"
    }
   ],
   "source": [
    "f1_1_train = np.load('F1_1_train.npy')\n",
    "f1_1_val = np.load('F1_1_val.npy')\n",
    "f1_1_test = np.load('F1_1_test.npy')\n",
    "\n",
    "f1_1_train.shape, f1_1_val.shape, f1_1_test.shape"
   ]
  },
  {
   "cell_type": "code",
   "execution_count": 317,
   "metadata": {},
   "outputs": [],
   "source": [
    "data_train['F1(1)'] = f1_1_train\n",
    "data_val['F1(1)'] = f1_1_val\n",
    "data_test['F1(1)'] = f1_1_test"
   ]
  },
  {
   "cell_type": "code",
   "execution_count": 318,
   "metadata": {},
   "outputs": [
    {
     "data": {
      "text/plain": [
       "((7200,), (1800,), (3330,))"
      ]
     },
     "execution_count": 318,
     "metadata": {},
     "output_type": "execute_result"
    }
   ],
   "source": [
    "f2_0_train = np.load('F2_0_train.npy')\n",
    "f2_0_val = np.load('F2_0_val.npy')\n",
    "f2_0_test = np.load('F2_0_test.npy')\n",
    "\n",
    "f2_0_train.shape, f2_0_val.shape, f2_0_test.shape"
   ]
  },
  {
   "cell_type": "code",
   "execution_count": 319,
   "metadata": {},
   "outputs": [],
   "source": [
    "data_train['F2(0)'] = f2_0_train\n",
    "data_val['F2(0)'] = f2_0_val\n",
    "data_test['F2(0)'] = f2_0_test"
   ]
  },
  {
   "cell_type": "code",
   "execution_count": 320,
   "metadata": {},
   "outputs": [
    {
     "data": {
      "text/plain": [
       "((7200,), (1800,), (3330,))"
      ]
     },
     "execution_count": 320,
     "metadata": {},
     "output_type": "execute_result"
    }
   ],
   "source": [
    "f2_1_train = np.load('F2_1_train.npy')\n",
    "f2_1_val = np.load('F2_1_val.npy')\n",
    "f2_1_test = np.load('F2_1_test.npy')\n",
    "\n",
    "f2_1_train.shape, f2_1_val.shape, f2_1_test.shape"
   ]
  },
  {
   "cell_type": "code",
   "execution_count": 321,
   "metadata": {},
   "outputs": [],
   "source": [
    "data_train['F2(1)'] = f2_1_train\n",
    "data_val['F2(1)'] = f2_1_val\n",
    "data_test['F2(1)'] = f2_1_test"
   ]
  },
  {
   "cell_type": "code",
   "execution_count": 322,
   "metadata": {},
   "outputs": [
    {
     "data": {
      "text/plain": [
       "((7200,), (1800,), (3330,))"
      ]
     },
     "execution_count": 322,
     "metadata": {},
     "output_type": "execute_result"
    }
   ],
   "source": [
    "f3_0_train = np.load('F3_0_train.npy')\n",
    "f3_0_val = np.load('F3_0_val.npy')\n",
    "f3_0_test = np.load('F3_0_test.npy')\n",
    "\n",
    "f3_0_train.shape, f3_0_val.shape, f3_0_test.shape"
   ]
  },
  {
   "cell_type": "code",
   "execution_count": 323,
   "metadata": {},
   "outputs": [],
   "source": [
    "data_train['F3(0)'] = f3_0_train\n",
    "data_val['F3(0)'] = f3_0_val\n",
    "data_test['F3(0)'] = f3_0_test"
   ]
  },
  {
   "cell_type": "code",
   "execution_count": 324,
   "metadata": {},
   "outputs": [
    {
     "data": {
      "text/plain": [
       "((7200,), (1800,), (3330,))"
      ]
     },
     "execution_count": 324,
     "metadata": {},
     "output_type": "execute_result"
    }
   ],
   "source": [
    "f3_1_train = np.load('F3_1_train.npy')\n",
    "f3_1_val = np.load('F3_1_val.npy')\n",
    "f3_1_test = np.load('F3_1_test.npy')\n",
    "\n",
    "f3_1_train.shape, f3_1_val.shape, f3_1_test.shape"
   ]
  },
  {
   "cell_type": "code",
   "execution_count": 325,
   "metadata": {},
   "outputs": [],
   "source": [
    "data_train['F3(1)'] = f3_1_train\n",
    "data_val['F3(1)'] = f3_1_val\n",
    "data_test['F3(1)'] = f3_1_test"
   ]
  },
  {
   "cell_type": "code",
   "execution_count": 326,
   "metadata": {},
   "outputs": [
    {
     "data": {
      "text/plain": [
       "((7200,), (1800,), (3330,))"
      ]
     },
     "execution_count": 326,
     "metadata": {},
     "output_type": "execute_result"
    }
   ],
   "source": [
    "f4_0_train = np.load('F4_0_train.npy')\n",
    "f4_0_val = np.load('F4_0_val.npy')\n",
    "f4_0_test = np.load('F4_0_test.npy')\n",
    "\n",
    "f4_0_train.shape, f4_0_val.shape, f4_0_test.shape"
   ]
  },
  {
   "cell_type": "code",
   "execution_count": 327,
   "metadata": {},
   "outputs": [],
   "source": [
    "data_train['F4(0)'] = f4_0_train\n",
    "data_val['F4(0)'] = f4_0_val\n",
    "data_test['F4(0)'] = f4_0_test"
   ]
  },
  {
   "cell_type": "code",
   "execution_count": 328,
   "metadata": {},
   "outputs": [
    {
     "data": {
      "text/plain": [
       "((7200,), (1800,), (3330,))"
      ]
     },
     "execution_count": 328,
     "metadata": {},
     "output_type": "execute_result"
    }
   ],
   "source": [
    "f4_1_train = np.load('F4_1_train.npy')\n",
    "f4_1_val = np.load('F4_1_val.npy')\n",
    "f4_1_test = np.load('F4_1_test.npy')\n",
    "\n",
    "f4_1_train.shape, f4_1_val.shape, f4_1_test.shape"
   ]
  },
  {
   "cell_type": "code",
   "execution_count": 329,
   "metadata": {},
   "outputs": [],
   "source": [
    "data_train['F4(1)'] = f4_1_train\n",
    "data_val['F4(1)'] = f4_1_val\n",
    "data_test['F4(1)'] = f4_1_test"
   ]
  },
  {
   "cell_type": "code",
   "execution_count": 330,
   "metadata": {},
   "outputs": [
    {
     "data": {
      "text/plain": [
       "((7200,), (1800,), (3330,))"
      ]
     },
     "execution_count": 330,
     "metadata": {},
     "output_type": "execute_result"
    }
   ],
   "source": [
    "f7_train = np.load('f7_train.npy')\n",
    "f7_val = np.load('f7_val.npy')\n",
    "f7_test = np.load('f7_pred.npy')\n",
    "\n",
    "f7_train.shape, f7_val.shape, f7_test.shape"
   ]
  },
  {
   "cell_type": "code",
   "execution_count": 331,
   "metadata": {},
   "outputs": [],
   "source": [
    "data_train['F7'] = f7_train\n",
    "data_val['F7'] = f7_val\n",
    "data_test['F7'] = f7_test"
   ]
  },
  {
   "cell_type": "code",
   "execution_count": 335,
   "metadata": {},
   "outputs": [
    {
     "name": "stdout",
     "output_type": "stream",
     "text": [
      "y_train.shape= (7200,)\n",
      "y_val.shape= (1800,)\n"
     ]
    }
   ],
   "source": [
    "y_train = np.load('y_train.npy',allow_pickle=True)\n",
    "print(\"y_train.shape=\",y_train.shape)\n",
    "y_val = np.load('y_val.npy',allow_pickle=True)\n",
    "print(\"y_val.shape=\",y_val.shape)"
   ]
  },
  {
   "cell_type": "code",
   "execution_count": 336,
   "metadata": {},
   "outputs": [],
   "source": [
    "data_train['Revenue'] = y_train\n",
    "data_val['Revenue'] = y_val"
   ]
  },
  {
   "cell_type": "code",
   "execution_count": 337,
   "metadata": {},
   "outputs": [
    {
     "data": {
      "text/plain": [
       "((7200, 16), (7200,))"
      ]
     },
     "execution_count": 337,
     "metadata": {},
     "output_type": "execute_result"
    }
   ],
   "source": [
    "x_train = data_train.drop('Revenue',axis=1)\n",
    "y_train = data_train['Revenue']\n",
    "\n",
    "x_train.shape, y_train.shape"
   ]
  },
  {
   "cell_type": "code",
   "execution_count": 338,
   "metadata": {},
   "outputs": [
    {
     "data": {
      "text/plain": [
       "((1800, 16), (1800,))"
      ]
     },
     "execution_count": 338,
     "metadata": {},
     "output_type": "execute_result"
    }
   ],
   "source": [
    "x_val = data_val.drop('Revenue',axis=1)\n",
    "y_val = data_val['Revenue']\n",
    "\n",
    "x_val.shape, y_val.shape"
   ]
  },
  {
   "cell_type": "code",
   "execution_count": 339,
   "metadata": {},
   "outputs": [
    {
     "data": {
      "text/plain": [
       "(3330, 16)"
      ]
     },
     "execution_count": 339,
     "metadata": {},
     "output_type": "execute_result"
    }
   ],
   "source": [
    "x_test = data_test\n",
    "\n",
    "x_test.shape"
   ]
  },
  {
   "cell_type": "code",
   "execution_count": 340,
   "metadata": {},
   "outputs": [
    {
     "data": {
      "text/plain": [
       "((1800, 16), (7200, 16), (3330, 16))"
      ]
     },
     "execution_count": 340,
     "metadata": {},
     "output_type": "execute_result"
    }
   ],
   "source": [
    "x_train, x_val, x_test = np.array(x_train), np.array(x_val), np.array(x_test)\n",
    "\n",
    "from sklearn.preprocessing import MinMaxScaler\n",
    "scaler = MinMaxScaler()\n",
    "scaler.fit(x_train)\n",
    "x_train = scaler.transform(x_train)\n",
    "x_val = scaler.transform(x_val)\n",
    "x_test = scaler.transform(x_test)\n",
    "x_val.shape, x_train.shape,x_test.shape"
   ]
  },
  {
   "cell_type": "code",
   "execution_count": 344,
   "metadata": {},
   "outputs": [
    {
     "name": "stdout",
     "output_type": "stream",
     "text": [
      "(1800,)\n",
      "AUC of LogisticRegression:  0.9304935662122521\n"
     ]
    }
   ],
   "source": [
    "from sklearn.linear_model import LogisticRegression\n",
    "model = LogisticRegression(C=0.5,class_weight='balanced',random_state=0,max_iter=100000).fit(x_train, y_train)\n",
    "yh_val = model.predict_proba(x_val)[:,1]\n",
    "print(yh_val.shape)\n",
    "print(\"AUC of LogisticRegression: \",roc_auc_score(y_val,yh_val))"
   ]
  },
  {
   "cell_type": "code",
   "execution_count": 345,
   "metadata": {},
   "outputs": [],
   "source": [
    "yh_test = model.predict_proba(x_test)[:,1]\n",
    "pd.DataFrame(yh_test).to_csv('Logistic2L.csv')"
   ]
  },
  {
   "cell_type": "code",
   "execution_count": 391,
   "metadata": {},
   "outputs": [],
   "source": [
    "from keras.models import Sequential\n",
    "from keras.layers import Dense\n",
    "import tensorflow as tf"
   ]
  },
  {
   "cell_type": "code",
   "execution_count": 392,
   "metadata": {},
   "outputs": [],
   "source": [
    "model = Sequential()\n",
    "model.add(Dense(8, input_dim=16, activation='elu'))\n",
    "# model.add(Dense(8, activation='elu'))\n",
    "model.add(Dense(4, activation='elu'))\n",
    "model.add(Dense(1, activation='sigmoid'))"
   ]
  },
  {
   "cell_type": "code",
   "execution_count": 393,
   "metadata": {},
   "outputs": [],
   "source": [
    "model.compile(loss='binary_crossentropy', optimizer='adam')"
   ]
  },
  {
   "cell_type": "code",
   "execution_count": 394,
   "metadata": {},
   "outputs": [
    {
     "name": "stdout",
     "output_type": "stream",
     "text": [
      "Epoch 1/2\n",
      "7200/7200 [==============================] - 1s 202us/step - loss: 0.2874\n",
      "Epoch 2/2\n",
      "7200/7200 [==============================] - 1s 71us/step - loss: 0.0353\n"
     ]
    },
    {
     "data": {
      "text/plain": [
       "<keras.callbacks.History at 0x7f4f0195c860>"
      ]
     },
     "execution_count": 394,
     "metadata": {},
     "output_type": "execute_result"
    }
   ],
   "source": [
    "model.fit(x_train, y_train, epochs=2, batch_size=24)"
   ]
  },
  {
   "cell_type": "code",
   "execution_count": 395,
   "metadata": {},
   "outputs": [],
   "source": [
    "yh_val = model.predict(x_val)"
   ]
  },
  {
   "cell_type": "code",
   "execution_count": 396,
   "metadata": {},
   "outputs": [
    {
     "data": {
      "text/plain": [
       "array([[0.0041312 ],\n",
       "       [0.05574211],\n",
       "       [0.00172117],\n",
       "       ...,\n",
       "       [0.36597705],\n",
       "       [0.0054684 ],\n",
       "       [0.00991079]], dtype=float32)"
      ]
     },
     "execution_count": 396,
     "metadata": {},
     "output_type": "execute_result"
    }
   ],
   "source": [
    "yh_val"
   ]
  },
  {
   "cell_type": "code",
   "execution_count": 397,
   "metadata": {},
   "outputs": [
    {
     "data": {
      "text/plain": [
       "0.9129520769260717"
      ]
     },
     "execution_count": 397,
     "metadata": {},
     "output_type": "execute_result"
    }
   ],
   "source": [
    "roc_auc_score(y_val,yh_val)"
   ]
  },
  {
   "cell_type": "code",
   "execution_count": 398,
   "metadata": {},
   "outputs": [],
   "source": [
    "ytest = model.predict(x_test)"
   ]
  },
  {
   "cell_type": "code",
   "execution_count": 399,
   "metadata": {},
   "outputs": [],
   "source": [
    "pd.DataFrame(ytest).to_csv('nn_pred.csv')"
   ]
  },
  {
   "cell_type": "code",
   "execution_count": 278,
   "metadata": {},
   "outputs": [],
   "source": [
    "val_pred = (data_val['M1']+data_val['M2']+data_val['M3']+data_val['M4'])/4.0"
   ]
  },
  {
   "cell_type": "code",
   "execution_count": 279,
   "metadata": {},
   "outputs": [
    {
     "data": {
      "text/plain": [
       "array([0.00620473, 0.01202296, 0.02142971, 0.02750862, 0.0339715 ,\n",
       "       0.04322808, 0.0552175 , 0.06572031, 0.08042351, 0.09663757])"
      ]
     },
     "execution_count": 279,
     "metadata": {},
     "output_type": "execute_result"
    }
   ],
   "source": [
    "np.percentile(val_pred,[5,10,20,25,30,35,40,45,50,55])\n"
   ]
  },
  {
   "cell_type": "code",
   "execution_count": 280,
   "metadata": {},
   "outputs": [],
   "source": [
    "val_pred[val_pred<np.percentile(val_pred,10)] = 0.0"
   ]
  },
  {
   "cell_type": "code",
   "execution_count": 281,
   "metadata": {},
   "outputs": [
    {
     "data": {
      "text/plain": [
       "0.9297126722375015"
      ]
     },
     "execution_count": 281,
     "metadata": {},
     "output_type": "execute_result"
    }
   ],
   "source": [
    "roc_auc_score(y_val,val_pred)"
   ]
  },
  {
   "cell_type": "code",
   "execution_count": 243,
   "metadata": {},
   "outputs": [
    {
     "name": "stderr",
     "output_type": "stream",
     "text": [
      "/home/harsh/anaconda3/lib/python3.7/site-packages/ipykernel_launcher.py:1: FutureWarning: The signature of `Series.to_csv` was aligned to that of `DataFrame.to_csv`, and argument 'header' will change its default value from False to True: please pass an explicit value to suppress this warning.\n",
      "  \"\"\"Entry point for launching an IPython kernel.\n"
     ]
    }
   ],
   "source": [
    "data_test['M15'].to_csv('M15_pred.csv')"
   ]
  },
  {
   "cell_type": "code",
   "execution_count": 254,
   "metadata": {},
   "outputs": [],
   "source": [
    "test_pred = (data_test['M1']+data_test['M2']+data_test['M3']+data_test['M4'])/4.0"
   ]
  },
  {
   "cell_type": "code",
   "execution_count": 255,
   "metadata": {},
   "outputs": [],
   "source": [
    "pd.DataFrame(test_pred).to_csv('first4.csv')"
   ]
  },
  {
   "cell_type": "code",
   "execution_count": null,
   "metadata": {},
   "outputs": [],
   "source": []
  }
 ],
 "metadata": {
  "kernelspec": {
   "display_name": "Python 3",
   "language": "python",
   "name": "python3"
  },
  "language_info": {
   "codemirror_mode": {
    "name": "ipython",
    "version": 3
   },
   "file_extension": ".py",
   "mimetype": "text/x-python",
   "name": "python",
   "nbconvert_exporter": "python",
   "pygments_lexer": "ipython3",
   "version": "3.7.1"
  }
 },
 "nbformat": 4,
 "nbformat_minor": 2
}
