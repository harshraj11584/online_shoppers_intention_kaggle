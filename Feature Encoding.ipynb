{
 "cells": [
  {
   "cell_type": "code",
   "execution_count": 3,
   "metadata": {},
   "outputs": [],
   "source": [
    "import numpy as np\n",
    "import pandas as pd\n",
    "import matplotlib.pyplot as plt"
   ]
  },
  {
   "cell_type": "code",
   "execution_count": 2,
   "metadata": {},
   "outputs": [],
   "source": [
    "data = pd.read_csv('train.csv')\n",
    "data.dropna(inplace=True)\n",
    "data = data.drop('ID',axis=1)\n",
    "data_test = pd.read_csv('test.csv')\n",
    "data_test = data_test.drop('ID',axis=1)"
   ]
  },
  {
   "cell_type": "code",
   "execution_count": 3,
   "metadata": {},
   "outputs": [
    {
     "data": {
      "text/plain": [
       "((9000, 18), (3330, 17))"
      ]
     },
     "execution_count": 3,
     "metadata": {},
     "output_type": "execute_result"
    }
   ],
   "source": [
    "data.shape, data_test.shape"
   ]
  },
  {
   "cell_type": "code",
   "execution_count": 5,
   "metadata": {},
   "outputs": [],
   "source": [
    "# np.all(data_test['ID'] == np.arange(data_test.shape[0]))"
   ]
  },
  {
   "cell_type": "code",
   "execution_count": 6,
   "metadata": {},
   "outputs": [],
   "source": [
    "data['Administrative'].value_counts()\n",
    "data['Administrative_Present'] = np.int32(data['Administrative'] != 0)\n",
    "data_test['Administrative_Present'] = np.int32(data_test['Administrative'] != 0)"
   ]
  },
  {
   "cell_type": "code",
   "execution_count": 7,
   "metadata": {},
   "outputs": [
    {
     "data": {
      "text/html": [
       "<div>\n",
       "<style scoped>\n",
       "    .dataframe tbody tr th:only-of-type {\n",
       "        vertical-align: middle;\n",
       "    }\n",
       "\n",
       "    .dataframe tbody tr th {\n",
       "        vertical-align: top;\n",
       "    }\n",
       "\n",
       "    .dataframe thead th {\n",
       "        text-align: right;\n",
       "    }\n",
       "</style>\n",
       "<table border=\"1\" class=\"dataframe\">\n",
       "  <thead>\n",
       "    <tr style=\"text-align: right;\">\n",
       "      <th></th>\n",
       "      <th>Administrative</th>\n",
       "      <th>Administrative_Duration</th>\n",
       "      <th>Informational</th>\n",
       "      <th>Informational_Duration</th>\n",
       "      <th>ProductRelated</th>\n",
       "      <th>ProductRelated_Duration</th>\n",
       "      <th>BounceRates</th>\n",
       "      <th>ExitRates</th>\n",
       "      <th>PageValues</th>\n",
       "      <th>SpecialDay</th>\n",
       "      <th>Month</th>\n",
       "      <th>OperatingSystems</th>\n",
       "      <th>Browser</th>\n",
       "      <th>Region</th>\n",
       "      <th>TrafficType</th>\n",
       "      <th>VisitorType</th>\n",
       "      <th>Weekend</th>\n",
       "      <th>Revenue</th>\n",
       "      <th>Administrative_Present</th>\n",
       "    </tr>\n",
       "  </thead>\n",
       "  <tbody>\n",
       "    <tr>\n",
       "      <th>0</th>\n",
       "      <td>2</td>\n",
       "      <td>208.0</td>\n",
       "      <td>1</td>\n",
       "      <td>50.000000</td>\n",
       "      <td>30</td>\n",
       "      <td>1461.666667</td>\n",
       "      <td>0.000000</td>\n",
       "      <td>0.021250</td>\n",
       "      <td>0.0</td>\n",
       "      <td>0.0</td>\n",
       "      <td>1</td>\n",
       "      <td>1</td>\n",
       "      <td>7</td>\n",
       "      <td>0</td>\n",
       "      <td>12</td>\n",
       "      <td>2</td>\n",
       "      <td>0</td>\n",
       "      <td>0</td>\n",
       "      <td>1</td>\n",
       "    </tr>\n",
       "    <tr>\n",
       "      <th>1</th>\n",
       "      <td>1</td>\n",
       "      <td>0.0</td>\n",
       "      <td>0</td>\n",
       "      <td>0.000000</td>\n",
       "      <td>1</td>\n",
       "      <td>0.000000</td>\n",
       "      <td>0.200000</td>\n",
       "      <td>0.200000</td>\n",
       "      <td>0.0</td>\n",
       "      <td>0.6</td>\n",
       "      <td>2</td>\n",
       "      <td>3</td>\n",
       "      <td>3</td>\n",
       "      <td>2</td>\n",
       "      <td>4</td>\n",
       "      <td>2</td>\n",
       "      <td>0</td>\n",
       "      <td>0</td>\n",
       "      <td>1</td>\n",
       "    </tr>\n",
       "    <tr>\n",
       "      <th>2</th>\n",
       "      <td>0</td>\n",
       "      <td>0.0</td>\n",
       "      <td>1</td>\n",
       "      <td>1729.000000</td>\n",
       "      <td>19</td>\n",
       "      <td>1401.083333</td>\n",
       "      <td>0.020000</td>\n",
       "      <td>0.050000</td>\n",
       "      <td>0.0</td>\n",
       "      <td>0.0</td>\n",
       "      <td>9</td>\n",
       "      <td>1</td>\n",
       "      <td>10</td>\n",
       "      <td>0</td>\n",
       "      <td>12</td>\n",
       "      <td>2</td>\n",
       "      <td>0</td>\n",
       "      <td>0</td>\n",
       "      <td>0</td>\n",
       "    </tr>\n",
       "    <tr>\n",
       "      <th>3</th>\n",
       "      <td>0</td>\n",
       "      <td>0.0</td>\n",
       "      <td>16</td>\n",
       "      <td>1210.397619</td>\n",
       "      <td>5</td>\n",
       "      <td>279.857143</td>\n",
       "      <td>0.003175</td>\n",
       "      <td>0.012764</td>\n",
       "      <td>0.0</td>\n",
       "      <td>0.0</td>\n",
       "      <td>1</td>\n",
       "      <td>1</td>\n",
       "      <td>10</td>\n",
       "      <td>0</td>\n",
       "      <td>11</td>\n",
       "      <td>2</td>\n",
       "      <td>0</td>\n",
       "      <td>0</td>\n",
       "      <td>0</td>\n",
       "    </tr>\n",
       "    <tr>\n",
       "      <th>4</th>\n",
       "      <td>1</td>\n",
       "      <td>7.0</td>\n",
       "      <td>0</td>\n",
       "      <td>0.000000</td>\n",
       "      <td>50</td>\n",
       "      <td>2330.727381</td>\n",
       "      <td>0.023810</td>\n",
       "      <td>0.031399</td>\n",
       "      <td>0.0</td>\n",
       "      <td>0.0</td>\n",
       "      <td>8</td>\n",
       "      <td>5</td>\n",
       "      <td>10</td>\n",
       "      <td>6</td>\n",
       "      <td>12</td>\n",
       "      <td>2</td>\n",
       "      <td>0</td>\n",
       "      <td>0</td>\n",
       "      <td>1</td>\n",
       "    </tr>\n",
       "  </tbody>\n",
       "</table>\n",
       "</div>"
      ],
      "text/plain": [
       "   Administrative  Administrative_Duration  Informational  \\\n",
       "0               2                    208.0              1   \n",
       "1               1                      0.0              0   \n",
       "2               0                      0.0              1   \n",
       "3               0                      0.0             16   \n",
       "4               1                      7.0              0   \n",
       "\n",
       "   Informational_Duration  ProductRelated  ProductRelated_Duration  \\\n",
       "0               50.000000              30              1461.666667   \n",
       "1                0.000000               1                 0.000000   \n",
       "2             1729.000000              19              1401.083333   \n",
       "3             1210.397619               5               279.857143   \n",
       "4                0.000000              50              2330.727381   \n",
       "\n",
       "   BounceRates  ExitRates  PageValues  SpecialDay  Month  OperatingSystems  \\\n",
       "0     0.000000   0.021250         0.0         0.0      1                 1   \n",
       "1     0.200000   0.200000         0.0         0.6      2                 3   \n",
       "2     0.020000   0.050000         0.0         0.0      9                 1   \n",
       "3     0.003175   0.012764         0.0         0.0      1                 1   \n",
       "4     0.023810   0.031399         0.0         0.0      8                 5   \n",
       "\n",
       "   Browser  Region  TrafficType  VisitorType  Weekend  Revenue  \\\n",
       "0        7       0           12            2        0        0   \n",
       "1        3       2            4            2        0        0   \n",
       "2       10       0           12            2        0        0   \n",
       "3       10       0           11            2        0        0   \n",
       "4       10       6           12            2        0        0   \n",
       "\n",
       "   Administrative_Present  \n",
       "0                       1  \n",
       "1                       1  \n",
       "2                       0  \n",
       "3                       0  \n",
       "4                       1  "
      ]
     },
     "execution_count": 7,
     "metadata": {},
     "output_type": "execute_result"
    }
   ],
   "source": [
    "data.head()"
   ]
  },
  {
   "cell_type": "code",
   "execution_count": 8,
   "metadata": {},
   "outputs": [
    {
     "data": {
      "text/html": [
       "<div>\n",
       "<style scoped>\n",
       "    .dataframe tbody tr th:only-of-type {\n",
       "        vertical-align: middle;\n",
       "    }\n",
       "\n",
       "    .dataframe tbody tr th {\n",
       "        vertical-align: top;\n",
       "    }\n",
       "\n",
       "    .dataframe thead th {\n",
       "        text-align: right;\n",
       "    }\n",
       "</style>\n",
       "<table border=\"1\" class=\"dataframe\">\n",
       "  <thead>\n",
       "    <tr style=\"text-align: right;\">\n",
       "      <th></th>\n",
       "      <th>Administrative</th>\n",
       "      <th>Administrative_Duration</th>\n",
       "      <th>Informational</th>\n",
       "      <th>Informational_Duration</th>\n",
       "      <th>ProductRelated</th>\n",
       "      <th>ProductRelated_Duration</th>\n",
       "      <th>BounceRates</th>\n",
       "      <th>ExitRates</th>\n",
       "      <th>PageValues</th>\n",
       "      <th>SpecialDay</th>\n",
       "      <th>Month</th>\n",
       "      <th>OperatingSystems</th>\n",
       "      <th>Browser</th>\n",
       "      <th>Region</th>\n",
       "      <th>TrafficType</th>\n",
       "      <th>VisitorType</th>\n",
       "      <th>Weekend</th>\n",
       "      <th>Administrative_Present</th>\n",
       "    </tr>\n",
       "  </thead>\n",
       "  <tbody>\n",
       "    <tr>\n",
       "      <th>0</th>\n",
       "      <td>0</td>\n",
       "      <td>0.0</td>\n",
       "      <td>0</td>\n",
       "      <td>0.000000</td>\n",
       "      <td>141</td>\n",
       "      <td>2886.523521</td>\n",
       "      <td>0.004317</td>\n",
       "      <td>0.018798</td>\n",
       "      <td>0.0</td>\n",
       "      <td>0.8</td>\n",
       "      <td>2</td>\n",
       "      <td>1</td>\n",
       "      <td>10</td>\n",
       "      <td>2</td>\n",
       "      <td>12</td>\n",
       "      <td>2</td>\n",
       "      <td>0</td>\n",
       "      <td>0</td>\n",
       "    </tr>\n",
       "    <tr>\n",
       "      <th>1</th>\n",
       "      <td>0</td>\n",
       "      <td>0.0</td>\n",
       "      <td>0</td>\n",
       "      <td>0.000000</td>\n",
       "      <td>8</td>\n",
       "      <td>64.000000</td>\n",
       "      <td>0.000000</td>\n",
       "      <td>0.050000</td>\n",
       "      <td>0.0</td>\n",
       "      <td>0.0</td>\n",
       "      <td>9</td>\n",
       "      <td>1</td>\n",
       "      <td>10</td>\n",
       "      <td>6</td>\n",
       "      <td>11</td>\n",
       "      <td>1</td>\n",
       "      <td>0</td>\n",
       "      <td>0</td>\n",
       "    </tr>\n",
       "    <tr>\n",
       "      <th>2</th>\n",
       "      <td>0</td>\n",
       "      <td>0.0</td>\n",
       "      <td>0</td>\n",
       "      <td>0.000000</td>\n",
       "      <td>15</td>\n",
       "      <td>139.833333</td>\n",
       "      <td>0.026667</td>\n",
       "      <td>0.053333</td>\n",
       "      <td>0.0</td>\n",
       "      <td>0.0</td>\n",
       "      <td>1</td>\n",
       "      <td>1</td>\n",
       "      <td>10</td>\n",
       "      <td>1</td>\n",
       "      <td>8</td>\n",
       "      <td>2</td>\n",
       "      <td>0</td>\n",
       "      <td>0</td>\n",
       "    </tr>\n",
       "    <tr>\n",
       "      <th>3</th>\n",
       "      <td>0</td>\n",
       "      <td>0.0</td>\n",
       "      <td>5</td>\n",
       "      <td>497.833333</td>\n",
       "      <td>26</td>\n",
       "      <td>851.666667</td>\n",
       "      <td>0.006452</td>\n",
       "      <td>0.018280</td>\n",
       "      <td>0.0</td>\n",
       "      <td>0.0</td>\n",
       "      <td>8</td>\n",
       "      <td>1</td>\n",
       "      <td>10</td>\n",
       "      <td>0</td>\n",
       "      <td>4</td>\n",
       "      <td>1</td>\n",
       "      <td>1</td>\n",
       "      <td>0</td>\n",
       "    </tr>\n",
       "    <tr>\n",
       "      <th>4</th>\n",
       "      <td>0</td>\n",
       "      <td>0.0</td>\n",
       "      <td>0</td>\n",
       "      <td>0.000000</td>\n",
       "      <td>31</td>\n",
       "      <td>822.650000</td>\n",
       "      <td>0.020690</td>\n",
       "      <td>0.020805</td>\n",
       "      <td>0.0</td>\n",
       "      <td>1.0</td>\n",
       "      <td>2</td>\n",
       "      <td>3</td>\n",
       "      <td>3</td>\n",
       "      <td>6</td>\n",
       "      <td>7</td>\n",
       "      <td>2</td>\n",
       "      <td>1</td>\n",
       "      <td>0</td>\n",
       "    </tr>\n",
       "  </tbody>\n",
       "</table>\n",
       "</div>"
      ],
      "text/plain": [
       "   Administrative  Administrative_Duration  Informational  \\\n",
       "0               0                      0.0              0   \n",
       "1               0                      0.0              0   \n",
       "2               0                      0.0              0   \n",
       "3               0                      0.0              5   \n",
       "4               0                      0.0              0   \n",
       "\n",
       "   Informational_Duration  ProductRelated  ProductRelated_Duration  \\\n",
       "0                0.000000             141              2886.523521   \n",
       "1                0.000000               8                64.000000   \n",
       "2                0.000000              15               139.833333   \n",
       "3              497.833333              26               851.666667   \n",
       "4                0.000000              31               822.650000   \n",
       "\n",
       "   BounceRates  ExitRates  PageValues  SpecialDay  Month  OperatingSystems  \\\n",
       "0     0.004317   0.018798         0.0         0.8      2                 1   \n",
       "1     0.000000   0.050000         0.0         0.0      9                 1   \n",
       "2     0.026667   0.053333         0.0         0.0      1                 1   \n",
       "3     0.006452   0.018280         0.0         0.0      8                 1   \n",
       "4     0.020690   0.020805         0.0         1.0      2                 3   \n",
       "\n",
       "   Browser  Region  TrafficType  VisitorType  Weekend  Administrative_Present  \n",
       "0       10       2           12            2        0                       0  \n",
       "1       10       6           11            1        0                       0  \n",
       "2       10       1            8            2        0                       0  \n",
       "3       10       0            4            1        1                       0  \n",
       "4        3       6            7            2        1                       0  "
      ]
     },
     "execution_count": 8,
     "metadata": {},
     "output_type": "execute_result"
    }
   ],
   "source": [
    "data_test.head()"
   ]
  },
  {
   "cell_type": "code",
   "execution_count": 9,
   "metadata": {},
   "outputs": [],
   "source": [
    "data['Informational'].value_counts()\n",
    "data['Informational_Present'] = np.int32(data['Informational'] != 0)\n",
    "data_test['Informational_Present'] = np.int32(data_test['Informational'] != 0)"
   ]
  },
  {
   "cell_type": "code",
   "execution_count": 10,
   "metadata": {},
   "outputs": [],
   "source": [
    "data['ProductRelated_Duration'].value_counts()\n",
    "data['ProductRelated_Duration_Present'] = np.int32(data['ProductRelated_Duration'] != 0)\n",
    "data_test['ProductRelated_Duration_Present'] = np.int32(data_test['ProductRelated_Duration'] != 0)"
   ]
  },
  {
   "cell_type": "code",
   "execution_count": 11,
   "metadata": {},
   "outputs": [],
   "source": [
    "data['BounceRates'].value_counts()\n",
    "data['BounceRates_Present'] = np.int32(data['BounceRates'] != 0)\n",
    "data_test['BounceRates_Present'] = np.int32(data_test['BounceRates'] != 0)"
   ]
  },
  {
   "cell_type": "code",
   "execution_count": 12,
   "metadata": {},
   "outputs": [],
   "source": [
    "data['PageValues'].value_counts()\n",
    "data['PageValues_Present'] = np.int32(data['PageValues'] != 0)\n",
    "data_test['PageValues_Present'] = np.int32(data_test['PageValues'] != 0)"
   ]
  },
  {
   "cell_type": "code",
   "execution_count": 13,
   "metadata": {},
   "outputs": [],
   "source": [
    "data['SpecialDay'].value_counts()\n",
    "data['SpecialDay_Present'] = np.int32(data['SpecialDay'] != 0)\n",
    "data_test['SpecialDay_Present'] = np.int32(data_test['SpecialDay'] != 0)"
   ]
  },
  {
   "cell_type": "code",
   "execution_count": 14,
   "metadata": {},
   "outputs": [
    {
     "data": {
      "text/plain": [
       "1    4826\n",
       "3    1931\n",
       "5    1835\n",
       "0     328\n",
       "4      55\n",
       "7      14\n",
       "6       6\n",
       "2       5\n",
       "Name: OperatingSystems, dtype: int64"
      ]
     },
     "execution_count": 14,
     "metadata": {},
     "output_type": "execute_result"
    }
   ],
   "source": [
    "data['OperatingSystems'].value_counts()"
   ]
  },
  {
   "cell_type": "code",
   "execution_count": 15,
   "metadata": {},
   "outputs": [],
   "source": [
    "data['OS1'] = data['OperatingSystems']==1\n",
    "data['OS3'] = data['OperatingSystems']==3\n",
    "data['OS5'] = data['OperatingSystems']==5\n",
    "data['OS0'] = data['OperatingSystems']==0\n",
    "data.loc[data['OperatingSystems']==1,'OperatingSystems'] = 0\n",
    "data.loc[data['OperatingSystems']==3,'OperatingSystems'] = 0\n",
    "data.loc[data['OperatingSystems']==5,'OperatingSystems'] = 0\n",
    "data.loc[data['OperatingSystems']==0,'OperatingSystems'] = 0\n",
    "\n",
    "data_test['OS1'] = data_test['OperatingSystems']==1\n",
    "data_test['OS3'] = data_test['OperatingSystems']==3\n",
    "data_test['OS5'] = data_test['OperatingSystems']==5\n",
    "data_test['OS0'] = data_test['OperatingSystems']==0\n",
    "data_test.loc[data_test['OperatingSystems']==1,'OperatingSystems'] = 0\n",
    "data_test.loc[data_test['OperatingSystems']==3,'OperatingSystems'] = 0\n",
    "data_test.loc[data_test['OperatingSystems']==5,'OperatingSystems'] = 0\n",
    "data_test.loc[data_test['OperatingSystems']==0,'OperatingSystems'] = 0"
   ]
  },
  {
   "cell_type": "code",
   "execution_count": 16,
   "metadata": {},
   "outputs": [
    {
     "data": {
      "text/plain": [
       "10    5792\n",
       "3     1820\n",
       "1      532\n",
       "7      337\n",
       "8      122\n",
       "4      121\n",
       "11     103\n",
       "9       78\n",
       "5       43\n",
       "6       38\n",
       "2        8\n",
       "12       5\n",
       "0        1\n",
       "Name: Browser, dtype: int64"
      ]
     },
     "execution_count": 16,
     "metadata": {},
     "output_type": "execute_result"
    }
   ],
   "source": [
    "data['Browser'].value_counts()"
   ]
  },
  {
   "cell_type": "code",
   "execution_count": 17,
   "metadata": {},
   "outputs": [],
   "source": [
    "data['B10'] = data['Browser'] == 10\n",
    "data['B3'] = data['Browser'] == 3\n",
    "data['B1'] = data['Browser'] == 1\n",
    "data['B7'] = data['Browser'] == 7\n",
    "data['B8'] = data['Browser'] == 8\n",
    "data['B4'] = data['Browser'] == 4\n",
    "data['B11'] = data['Browser'] == 11\n",
    "\n",
    "data.loc[data['Browser'] == 10,'Browser'] = 0\n",
    "data.loc[data['Browser'] == 3,'Browser'] = 0\n",
    "data.loc[data['Browser'] == 1,'Browser'] = 0\n",
    "data.loc[data['Browser'] == 7,'Browser'] = 0\n",
    "data.loc[data['Browser'] == 8,'Browser'] = 0\n",
    "data.loc[data['Browser'] == 4,'Browser'] = 0\n",
    "data.loc[data['Browser'] == 11,'Browser'] = 0\n",
    "\n",
    "data_test['B10'] = data_test['Browser'] == 10\n",
    "data_test['B3'] = data_test['Browser'] == 3\n",
    "data_test['B1'] = data_test['Browser'] == 1\n",
    "data_test['B7'] = data_test['Browser'] == 7\n",
    "data_test['B8'] = data_test['Browser'] == 8\n",
    "data_test['B4'] = data_test['Browser'] == 4\n",
    "data_test['B11'] = data_test['Browser'] == 11\n",
    "\n",
    "data_test.loc[data_test['Browser'] == 10,'Browser'] = 0\n",
    "data_test.loc[data_test['Browser'] == 3,'Browser'] = 0\n",
    "data_test.loc[data_test['Browser'] == 1,'Browser'] = 0\n",
    "data_test.loc[data_test['Browser'] == 7,'Browser'] = 0\n",
    "data_test.loc[data_test['Browser'] == 8,'Browser'] = 0\n",
    "data_test.loc[data_test['Browser'] == 4,'Browser'] = 0\n",
    "data_test.loc[data_test['Browser'] == 11,'Browser'] = 0"
   ]
  },
  {
   "cell_type": "code",
   "execution_count": 18,
   "metadata": {},
   "outputs": [
    {
     "data": {
      "text/plain": [
       "0    3512\n",
       "6    1765\n",
       "2     879\n",
       "5     813\n",
       "1     582\n",
       "3     532\n",
       "4     378\n",
       "7     313\n",
       "8     226\n",
       "Name: Region, dtype: int64"
      ]
     },
     "execution_count": 18,
     "metadata": {},
     "output_type": "execute_result"
    }
   ],
   "source": [
    "data['Region'].value_counts()"
   ]
  },
  {
   "cell_type": "code",
   "execution_count": 19,
   "metadata": {},
   "outputs": [
    {
     "data": {
      "text/plain": [
       "4     2841\n",
       "8     1826\n",
       "12    1484\n",
       "7      791\n",
       "14     521\n",
       "2      323\n",
       "5      321\n",
       "11     250\n",
       "3      202\n",
       "15     178\n",
       "18     144\n",
       "19      31\n",
       "10      31\n",
       "13      27\n",
       "1       10\n",
       "16       8\n",
       "6        8\n",
       "17       2\n",
       "9        1\n",
       "0        1\n",
       "Name: TrafficType, dtype: int64"
      ]
     },
     "execution_count": 19,
     "metadata": {},
     "output_type": "execute_result"
    }
   ],
   "source": [
    "data['TrafficType'].value_counts()"
   ]
  },
  {
   "cell_type": "code",
   "execution_count": 20,
   "metadata": {},
   "outputs": [],
   "source": [
    "data['T4'] = data['TrafficType']==4\n",
    "data['T8'] = data['TrafficType']==8\n",
    "data['T12'] = data['TrafficType']==12\n",
    "data['T7'] = data['TrafficType']==7\n",
    "data['T14'] = data['TrafficType']==14\n",
    "data['T2'] = data['TrafficType']==2\n",
    "data['T5'] = data['TrafficType']==5\n",
    "data['T11'] = data['TrafficType']==11\n",
    "data['T3'] = data['TrafficType']==3\n",
    "data['T15'] = data['TrafficType']==15\n",
    "data['T18'] = data['TrafficType']==18\n",
    "\n",
    "data.loc[data['TrafficType']==4,'TrafficType'] = 0\n",
    "data.loc[data['TrafficType']==8,'TrafficType'] = 0\n",
    "data.loc[data['TrafficType']==12,'TrafficType'] = 0\n",
    "data.loc[data['TrafficType']==7,'TrafficType'] = 0\n",
    "data.loc[data['TrafficType']==14,'TrafficType'] = 0\n",
    "data.loc[data['TrafficType']==2,'TrafficType'] = 0\n",
    "data.loc[data['TrafficType']==5,'TrafficType'] = 0\n",
    "data.loc[data['TrafficType']==11,'TrafficType'] = 0\n",
    "data.loc[data['TrafficType']==3,'TrafficType'] = 0\n",
    "data.loc[data['TrafficType']==15,'TrafficType'] = 0\n",
    "data.loc[data['TrafficType']==8,'TrafficType'] = 0\n",
    "\n",
    "data_test['T4'] = data_test['TrafficType']==4\n",
    "data_test['T8'] = data_test['TrafficType']==8\n",
    "data_test['T12'] = data_test['TrafficType']==12\n",
    "data_test['T7'] = data_test['TrafficType']==7\n",
    "data_test['T14'] = data_test['TrafficType']==14\n",
    "data_test['T2'] = data_test['TrafficType']==2\n",
    "data_test['T5'] = data_test['TrafficType']==5\n",
    "data_test['T11'] = data_test['TrafficType']==11\n",
    "data_test['T3'] = data_test['TrafficType']==3\n",
    "data_test['T15'] = data_test['TrafficType']==15\n",
    "data_test['T18'] = data_test['TrafficType']==18\n",
    "\n",
    "data_test.loc[data_test['TrafficType']==4,'TrafficType'] = 0\n",
    "data_test.loc[data_test['TrafficType']==8,'TrafficType'] = 0\n",
    "data_test.loc[data_test['TrafficType']==12,'TrafficType'] = 0\n",
    "data_test.loc[data_test['TrafficType']==7,'TrafficType'] = 0\n",
    "data_test.loc[data_test['TrafficType']==14,'TrafficType'] = 0\n",
    "data_test.loc[data_test['TrafficType']==2,'TrafficType'] = 0\n",
    "data_test.loc[data_test['TrafficType']==5,'TrafficType'] = 0\n",
    "data_test.loc[data_test['TrafficType']==11,'TrafficType'] = 0\n",
    "data_test.loc[data_test['TrafficType']==3,'TrafficType'] = 0\n",
    "data_test.loc[data_test['TrafficType']==15,'TrafficType'] = 0\n",
    "data_test.loc[data_test['TrafficType']==8,'TrafficType'] = 0"
   ]
  },
  {
   "cell_type": "code",
   "execution_count": 21,
   "metadata": {},
   "outputs": [],
   "source": [
    "data['VisitorType'].value_counts()\n",
    "data['V1'] = data[\"VisitorType\"] ==1\n",
    "data['V2'] = data[\"VisitorType\"] ==2 \n",
    "data['V0'] = data[\"VisitorType\"] ==0 \n",
    "data = data.drop('VisitorType',axis=1)\n",
    "\n",
    "data_test['VisitorType'].value_counts()\n",
    "data_test['V1'] = data_test[\"VisitorType\"] ==1\n",
    "data_test['V2'] = data_test[\"VisitorType\"] ==2 \n",
    "data_test['V0'] = data_test[\"VisitorType\"] ==0 \n",
    "data_test = data_test.drop('VisitorType',axis=1)"
   ]
  },
  {
   "cell_type": "code",
   "execution_count": 25,
   "metadata": {},
   "outputs": [
    {
     "data": {
      "text/plain": [
       "((9000, 49), (3330, 48))"
      ]
     },
     "execution_count": 25,
     "metadata": {},
     "output_type": "execute_result"
    }
   ],
   "source": [
    "data.shape, data_test.shape"
   ]
  },
  {
   "cell_type": "code",
   "execution_count": 24,
   "metadata": {},
   "outputs": [],
   "source": [
    "data['Weekend'].value_counts()\n",
    "data['W1'] = data['Weekend']==1\n",
    "data['W2'] = data['Weekend']==0\n",
    "data = data.drop('Weekend',axis=1)\n",
    "\n",
    "data_test['W1'] = data_test['Weekend']==1\n",
    "data_test['W2'] = data_test['Weekend']==0\n",
    "data_test = data_test.drop('Weekend',axis=1)"
   ]
  },
  {
   "cell_type": "code",
   "execution_count": 71,
   "metadata": {},
   "outputs": [
    {
     "name": "stdout",
     "output_type": "stream",
     "text": [
      "(1800, 48)\n",
      "AUC of Random Forest Regressor:  0.9261368190364089\n"
     ]
    }
   ],
   "source": [
    "from sklearn.metrics import roc_auc_score\n",
    "from sklearn.model_selection import train_test_split\n",
    "\n",
    "x = data.drop(['Revenue'], axis = 1)\n",
    "y = data['Revenue']\n",
    "\n",
    "x = np.array(x).astype(np.float32)\n",
    "x_test = np.array(data_test)\n",
    "# for i in range(x.shape[1]):\n",
    "# \tif (np.max(x[:,i]) - np.min(x[:,i]))!=0 :\n",
    "# \t\tx[:,i] = (x[:,i] - np.min(x[:,i]))/(np.max(x[:,i]) - np.min(x[:,i]))\n",
    "# # \t\tx_test[:,i] = (x_test[:,i] - np.min(x_test[:,i]))/(np.max(x_test[:,i]) - np.min(x_test[:,i]))\n",
    "y = np.array(y).astype(np.float32)\n",
    "\n",
    "x_train, x_val, y_train, y_val = train_test_split(x, y, test_size = 0.2, random_state = 0)\n",
    "\n",
    "print(x_val.shape)\n",
    "\n",
    "from sklearn.ensemble import RandomForestRegressor\n",
    "model = RandomForestRegressor(n_estimators=300,random_state=420)\n",
    "model.fit(x_train,y_train)\n",
    "yh_val = model.predict(x_val)\n",
    "print(\"AUC of Random Forest Regressor: \",roc_auc_score(y_val,yh_val))\n"
   ]
  },
  {
   "cell_type": "code",
   "execution_count": 61,
   "metadata": {},
   "outputs": [
    {
     "data": {
      "text/plain": [
       "array([1.47731135e-04, 4.98236412e-04, 6.21238940e-04, 8.04486811e-04,\n",
       "       8.16679202e-04, 1.07815752e-03, 1.22254380e-03, 1.49628557e-03,\n",
       "       1.52936574e-03, 1.62972967e-03, 1.66931230e-03, 1.77723462e-03,\n",
       "       2.03238248e-03, 2.06230799e-03, 2.08343307e-03, 2.11700414e-03,\n",
       "       2.34511836e-03, 2.34853623e-03, 2.70001839e-03, 2.81313401e-03,\n",
       "       2.84367359e-03, 3.06349064e-03, 3.56985102e-03, 3.88074494e-03,\n",
       "       3.99468422e-03, 4.00988580e-03, 4.03931720e-03, 4.11331253e-03,\n",
       "       4.20838064e-03, 4.39957279e-03, 4.41810707e-03, 4.54409294e-03,\n",
       "       4.60295980e-03, 5.02628293e-03, 5.57284005e-03, 5.89667227e-03,\n",
       "       6.77330044e-03, 1.19853810e-02, 2.27805803e-02, 2.38380143e-02,\n",
       "       3.73259456e-02, 4.17903581e-02, 4.90424974e-02, 6.96752165e-02,\n",
       "       7.20704413e-02, 7.40557313e-02, 7.66548303e-02, 4.14030899e-01])"
      ]
     },
     "execution_count": 61,
     "metadata": {},
     "output_type": "execute_result"
    }
   ],
   "source": [
    "imp_feats = np.argsort(model.feature_importances_)\n",
    "model.feature_importances_[imp_feats]"
   ]
  },
  {
   "cell_type": "code",
   "execution_count": 62,
   "metadata": {},
   "outputs": [],
   "source": [
    "x_train_imp = x_train[:,imp_feats[-5:]]\n",
    "x_val_imp = x_val[:,imp_feats[-5:]]\n",
    "x_test_imp = x_test[:,imp_feats[-5:]]"
   ]
  },
  {
   "cell_type": "code",
   "execution_count": 63,
   "metadata": {},
   "outputs": [],
   "source": [
    "from sklearn.preprocessing import PolynomialFeatures\n",
    "poly = PolynomialFeatures(3)\n",
    "x_train_imp = poly.fit_transform(x_train_imp)\n",
    "x_val_imp = poly.fit_transform(x_val_imp)\n",
    "x_test_imp = poly.fit_transform(x_test_imp)"
   ]
  },
  {
   "cell_type": "code",
   "execution_count": 64,
   "metadata": {},
   "outputs": [],
   "source": [
    "x_train = np.concatenate((x_train,x_train_imp),axis=1)\n",
    "x_test = np.concatenate((x_test,x_test_imp),axis=1)\n",
    "x_val = np.concatenate((x_val,x_val_imp),axis=1)"
   ]
  },
  {
   "cell_type": "code",
   "execution_count": 65,
   "metadata": {},
   "outputs": [
    {
     "name": "stdout",
     "output_type": "stream",
     "text": [
      "AUC of Random Forest Regressor:  0.9229044675837401\n"
     ]
    }
   ],
   "source": [
    "from sklearn.ensemble import RandomForestRegressor\n",
    "model = RandomForestRegressor(n_estimators=300,random_state=420)\n",
    "model.fit(x_train,y_train)\n",
    "yh_val = model.predict(x_val)\n",
    "print(\"AUC of Random Forest Regressor: \",roc_auc_score(y_val,yh_val))"
   ]
  },
  {
   "cell_type": "code",
   "execution_count": 66,
   "metadata": {},
   "outputs": [],
   "source": [
    "imp_feats = np.argsort(model.feature_importances_[49:])\n",
    "imp_feats = imp_feats[-3:]"
   ]
  },
  {
   "cell_type": "code",
   "execution_count": 67,
   "metadata": {},
   "outputs": [
    {
     "data": {
      "text/plain": [
       "array([19,  7, 34])"
      ]
     },
     "execution_count": 67,
     "metadata": {},
     "output_type": "execute_result"
    }
   ],
   "source": [
    "imp_feats"
   ]
  },
  {
   "cell_type": "code",
   "execution_count": 68,
   "metadata": {},
   "outputs": [],
   "source": [
    "x_train_imp = x_train_imp[:,imp_feats]\n",
    "x_val_imp = x_val_imp[:,imp_feats]\n",
    "x_test_imp = x_test_imp[:,imp_feats]"
   ]
  },
  {
   "cell_type": "code",
   "execution_count": 69,
   "metadata": {},
   "outputs": [],
   "source": [
    "x_train = np.concatenate((x_train,x_train_imp),axis=1)\n",
    "x_test = np.concatenate((x_test,x_test_imp),axis=1)\n",
    "x_val = np.concatenate((x_val,x_val_imp),axis=1)"
   ]
  },
  {
   "cell_type": "code",
   "execution_count": 70,
   "metadata": {},
   "outputs": [
    {
     "data": {
      "text/plain": [
       "((7200, 107), (1800, 107))"
      ]
     },
     "execution_count": 70,
     "metadata": {},
     "output_type": "execute_result"
    }
   ],
   "source": [
    "x_train.shape,x_val.shape"
   ]
  },
  {
   "cell_type": "code",
   "execution_count": null,
   "metadata": {},
   "outputs": [],
   "source": []
  },
  {
   "cell_type": "raw",
   "metadata": {},
   "source": [
    "x_train = np.load('x_train.npy',allow_pickle=True)\n",
    "print(\"x_train.shape=\",x_train.shape)\n",
    "x_val = np.load('x_val.npy',allow_pickle=True)\n",
    "print(\"x_val.shape=\",x_val.shape)\n",
    "y_train = np.load('y_train.npy',allow_pickle=True)\n",
    "print(\"y_train.shape=\",y_train.shape)\n",
    "y_val = np.load('y_val.npy',allow_pickle=True)\n",
    "print(\"y_val.shape=\",y_val.shape)\n",
    "x_test = np.load('x_test.npy',allow_pickle=True)\n",
    "print(\"x_test.shape=\",x_test.shape)"
   ]
  },
  {
   "cell_type": "code",
   "execution_count": 13,
   "metadata": {},
   "outputs": [
    {
     "data": {
      "text/plain": [
       "array([0., 0., 0., ..., 0., 0., 0.], dtype=float32)"
      ]
     },
     "execution_count": 13,
     "metadata": {},
     "output_type": "execute_result"
    }
   ],
   "source": []
  },
  {
   "cell_type": "code",
   "execution_count": null,
   "metadata": {},
   "outputs": [],
   "source": []
  }
 ],
 "metadata": {
  "kernelspec": {
   "display_name": "Python 3",
   "language": "python",
   "name": "python3"
  },
  "language_info": {
   "codemirror_mode": {
    "name": "ipython",
    "version": 3
   },
   "file_extension": ".py",
   "mimetype": "text/x-python",
   "name": "python",
   "nbconvert_exporter": "python",
   "pygments_lexer": "ipython3",
   "version": "3.7.1"
  }
 },
 "nbformat": 4,
 "nbformat_minor": 2
}
